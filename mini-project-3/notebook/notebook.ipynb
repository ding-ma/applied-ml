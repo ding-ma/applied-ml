{
 "cells": [
  {
   "cell_type": "code",
   "execution_count": 2,
   "metadata": {},
   "outputs": [],
   "source": [
    "import sys\n",
    "from pathlib import Path\n",
    "import tensorflow as tf\n",
    "import numpy as np\n",
    "import seaborn as sns\n",
    "import matplotlib.pyplot as plt\n",
    "import pandas as pd\n",
    "\n",
    "\n",
    "files_path = str(Path().cwd().parent)\n",
    "sys.path.insert(0, files_path)"
   ]
  },
  {
   "cell_type": "code",
   "execution_count": 3,
   "metadata": {},
   "outputs": [
    {
     "data": {
      "image/png": "[encoded data removed]",
      "text/plain": "<Figure size 432x288 with 2 Axes>"
     },
     "metadata": {
      "needs_background": "light"
     },
     "output_type": "display_data"
    }
   ],
   "source": [
    "threshold = False\n",
    "\n",
    "(x_train, y_train), (x_test, y_test) = tf.keras.datasets.mnist.load_data()\n",
    "\n",
    "# normalize dataset\n",
    "# source: https://www.tensorflow.org/quantum/tutorials/mnist\n",
    "x_train, x_test = x_train[..., np.newaxis] / 255.0, x_test[..., np.newaxis] / 255.0\n",
    "\n",
    "#    apply threshold\n",
    "if threshold:\n",
    "    black_or_white = np.vectorize(lambda x : 0 if x < 0.5 else 1)\n",
    "    x_train = black_or_white(x_train)\n",
    "    x_test = black_or_white(x_test)\n",
    "# x_test = black_or_white(x_test)\n",
    "\n",
    "plt.imshow(x_train[0, :, :, 0])\n",
    "plt.colorbar()\n",
    "plt.show()"
   ]
  },
  {
   "cell_type": "code",
   "execution_count": 4,
   "metadata": {},
   "outputs": [
    {
     "data": {
      "image/png": "[encoded data removed]",
      "text/plain": "<Figure size 432x288 with 2 Axes>"
     },
     "metadata": {
      "needs_background": "light"
     },
     "output_type": "display_data"
    }
   ],
   "source": [
    "plt.imshow(x_train[1, :, :, 0])\n",
    "plt.colorbar()\n",
    "plt.show()"
   ]
  },
  {
   "cell_type": "code",
   "execution_count": 5,
   "metadata": {},
   "outputs": [
    {
     "data": {
      "image/png": "[encoded data removed]",
      "text/plain": "<Figure size 432x288 with 2 Axes>"
     },
     "metadata": {
      "needs_background": "light"
     },
     "output_type": "display_data"
    }
   ],
   "source": [
    "plt.imshow(x_train[2, :, :, 0])\n",
    "plt.colorbar()\n",
    "plt.show()"
   ]
  },
  {
   "cell_type": "markdown",
   "metadata": {},
   "source": [
    "There is not a big different between 0.4, 0.5, 0.6 "
   ]
  },
  {
   "cell_type": "code",
   "execution_count": 6,
   "metadata": {},
   "outputs": [],
   "source": [
    "df_train = pd.DataFrame( x_train[:, :, :, 0].reshape(x_train[:, :, :, 0].shape[0], 28*28))\n",
    "df_train[\"label\"] = y_train\n",
    "# df_test = pd.DataFrame( x_test[:, :, :, 0].reshape(x_test[:, :, :, 0].shape[0], 28*28))\n",
    "# df_test[\"label\"] = y_test\n",
    "\n",
    "# df = pd.concat([df_train, df_test])\n",
    "# df.reset_index(inplace=True, drop=True)\n",
    "X_train = df_train.drop(['label'], axis=1)\n",
    "y_train = df_train['label']"
   ]
  },
  {
   "cell_type": "code",
   "execution_count": 7,
   "metadata": {},
   "outputs": [],
   "source": [
    "# Random Shifts\n",
    "from keras.datasets import mnist\n",
    "from keras.preprocessing.image import ImageDataGenerator\n",
    "from matplotlib import pyplot\n",
    "\n",
    "\n",
    "# shifting\n",
    "\n",
    "(X_train, y_train), (X_test, y_test) = mnist.load_data()\n",
    "X_train = X_train.reshape((X_train.shape[0], 28, 28, 1))\n",
    "X_test = X_test.reshape((X_test.shape[0], 28, 28, 1))\n",
    "# convert from int to float\n",
    "X_train = X_train.astype('float32')\n",
    "X_test = X_test.astype('float32')\n",
    "# define data preparation\n"
   ]
  },
  {
   "cell_type": "code",
   "execution_count": 118,
   "metadata": {},
   "outputs": [
    {
     "data": {
      "image/png": "[encoded data removed]",
      "text/plain": "<Figure size 432x288 with 2 Axes>"
     },
     "metadata": {
      "needs_background": "light"
     },
     "output_type": "display_data"
    }
   ],
   "source": [
    "import tensorflow as tf\n",
    "import numpy as np\n",
    "import seaborn as sns\n",
    "import matplotlib.pyplot as plt\n",
    "import pandas as pd\n",
    "from keras.preprocessing.image import ImageDataGenerator\n",
    "from keras.datasets import mnist\n",
    "from itertools import chain\n",
    "\n",
    "def __apply_generator(img_gen, X_train, y_train):\n",
    "    img_gen.fit(X_train, seed=1)\n",
    "    return img_gen.flow(X_train, y_train, batch_size=1, shuffle=True)\n",
    "\n",
    "\n",
    "def __rotate_image(X_train, y_train):\n",
    "    img_gen = ImageDataGenerator(rotation_range=90, fill_mode=\"nearest\")\n",
    "    return __apply_generator(img_gen, X_train, y_train)\n",
    "\n",
    "\n",
    "def __shift_image(X_train, y_train):\n",
    "    img_gen = ImageDataGenerator(width_shift_range=0.2, height_shift_range=0.2, fill_mode=\"nearest\")\n",
    "    return __apply_generator(img_gen, X_train, y_train)\n",
    "\n",
    "\n",
    "def __zoom_image(X_train, y_train):\n",
    "    img_gen = ImageDataGenerator(zoom_range=4, fill_mode=\"nearest\")\n",
    "    return __apply_generator(img_gen, X_train, y_train)\n",
    "\n",
    "\n",
    "def __shear_image(X_train, y_train):\n",
    "    img_gen = ImageDataGenerator(shear_range=150, fill_mode=\"nearest\")\n",
    "    return __apply_generator(img_gen, X_train, y_train)\n",
    "\n",
    "\n",
    "def __apply_all_augmentation(X_train, y_train):\n",
    "    img_gen = ImageDataGenerator(\n",
    "        shear_range=5,\n",
    "        zoom_range=0.5,\n",
    "        width_shift_range=0.2,\n",
    "        height_shift_range=0.2,\n",
    "        rotation_range=30,\n",
    "        fill_mode=\"nearest\",\n",
    "    )\n",
    "    return __apply_generator(img_gen, X_train, y_train)\n",
    "\n",
    "\n",
    "def aquire_data(threshold, augment_data):\n",
    "\n",
    "    (X_train, y_train), (X_test, y_test) = mnist.load_data()\n",
    "    X_train = X_train.reshape((X_train.shape[0], 28, 28, 1))\n",
    "    X_test = X_test.reshape((X_test.shape[0], 28, 28, 1))\n",
    "\n",
    "    # convert from int to float and normalize\n",
    "    X_train, X_test = X_train.astype(\"float32\") / 255, X_test.astype(\"float32\") / 255\n",
    "\n",
    "\n",
    "    # augment data!\n",
    "    # train_generator = chain(zip(X_train, y_train))\n",
    "    train_generator = chain()\n",
    "    if augment_data.get(\"rotate\", None):\n",
    "        train_generator = chain(train_generator, __rotate_image(X_train, y_train))\n",
    "\n",
    "    if augment_data.get(\"shift\", None):\n",
    "        train_generator = chain(train_generator, __shift_image(X_train, y_train))\n",
    "\n",
    "    if augment_data.get(\"zoom\", None):\n",
    "        train_generator = chain(train_generator, __zoom_image(X_train, y_train))\n",
    "\n",
    "    if augment_data.get(\"shear\", None):\n",
    "        train_generator = chain(train_generator, __shear_image(X_train, y_train))\n",
    "\n",
    "    if augment_data.get(\"all\", None):\n",
    "        train_generator = chain(train_generator, __apply_all_augmentation(X_train, y_train))\n",
    "    \n",
    "    if threshold:\n",
    "        black_or_white = np.vectorize(lambda x: 0 if x < 0.5 else 1)\n",
    "        return map(lambda x: (black_or_white(x[0]), x[1]), train_generator), zip(X_test, y_test)\n",
    "    \n",
    "    return train_generator, zip(X_test, y_test)\n",
    "\n",
    "\n",
    "data_preprocess_params = {\n",
    "    \"threshold\": True,\n",
    "    \"augment_data\": {\"rotate\": False, \"shift\": False, \"zoom\": False, \"shear\": False, \"all\": True},\n",
    "}\n",
    "\n",
    "train, test = aquire_data(**data_preprocess_params)\n",
    "\n",
    "\n",
    "for i,(x, y) in enumerate(train):\n",
    "    plt.imshow(x.reshape(28, 28))\n",
    "    plt.title(y)\n",
    "    plt.colorbar()\n",
    "    plt.show()\n",
    "    break"
   ]
  },
  {
   "cell_type": "code",
   "execution_count": null,
   "metadata": {},
   "outputs": [],
   "source": []
  }
 ],
 "metadata": {
  "kernelspec": {
   "display_name": "Python 3.7.3 64-bit ('venv')",
   "metadata": {
    "interpreter": {
     "hash": "8746a1b287dd4bdce227f5ac245f1756edef5e5e1a02b8fe4d9a97b4d8d5f5ff"
    }
   },
   "name": "python3"
  },
  "language_info": {
   "codemirror_mode": {
    "name": "ipython",
    "version": 3
   },
   "file_extension": ".py",
   "mimetype": "text/x-python",
   "name": "python",
   "nbconvert_exporter": "python",
   "pygments_lexer": "ipython3",
   "version": "3.7.3"
  },
  "orig_nbformat": 2
 },
 "nbformat": 4,
 "nbformat_minor": 2
}