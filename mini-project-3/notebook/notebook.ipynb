{
  "cells": [
    {
      "cell_type": "code",
      "metadata": {
        "cell_id": "00000-71556e21-e2e5-4114-a2ae-89eacf0f8338",
        "deepnote_to_be_reexecuted": false,
        "source_hash": "98c4de82",
        "execution_millis": 4211,
        "execution_start": 1615857675675,
        "deepnote_cell_type": "code"
      },
      "source": "import sys\nfrom pathlib import Path\nimport tensorflow as tf\nimport numpy as np\nimport seaborn as sns\nimport matplotlib.pyplot as plt\nimport pandas as pd\n\n\nfiles_path = str(Path().cwd().parent)\nsys.path.insert(0, files_path)",
      "execution_count": 1,
      "outputs": []
    },
    {
      "cell_type": "code",
      "metadata": {
        "cell_id": "00001-4ef49bfe-05b6-4847-81a0-ae58e43a49c1",
        "deepnote_to_be_reexecuted": false,
        "source_hash": "39b3ef9b",
        "execution_millis": 694,
        "execution_start": 1615857679891,
        "deepnote_cell_type": "code"
      },
      "source": "threshold = False\n\n(x_train, y_train), (x_test, y_test) = tf.keras.datasets.mnist.load_data()\n\n# normalize dataset\n# source: https://www.tensorflow.org/quantum/tutorials/mnist\nx_train, x_test = x_train[..., np.newaxis] / 255.0, x_test[..., np.newaxis] / 255.0\n\n#    apply threshold\nif threshold:\n    black_or_white = np.vectorize(lambda x : 0 if x < 0.5 else 1)\n    x_train = black_or_white(x_train)\n    x_test = black_or_white(x_test)\n# x_test = black_or_white(x_test)\n\nplt.imshow(x_train[0, :, :, 0])\nplt.colorbar()\nplt.show()",
      "execution_count": 2,
      "outputs": [
        {
          "data": {
            "text/plain": "<Figure size 432x288 with 2 Axes>",
            "image/png": "[encoded data removed]"
          },
          "metadata": {
            "needs_background": "light"
          },
          "output_type": "display_data"
        }
      ]
    },
    {
      "cell_type": "code",
      "metadata": {
        "cell_id": "00002-e47a86cb-822c-4783-b28e-ae78a8643854",
        "deepnote_to_be_reexecuted": false,
        "source_hash": "10441c34",
        "execution_millis": 313,
        "execution_start": 1615857680589,
        "deepnote_cell_type": "code"
      },
      "source": "plt.imshow(x_train[1, :, :, 0])\nplt.colorbar()\nplt.show()",
      "execution_count": 3,
      "outputs": [
        {
          "data": {
            "text/plain": "<Figure size 432x288 with 2 Axes>",
            "image/png": "[encoded data removed]"
          },
          "metadata": {
            "needs_background": "light"
          },
          "output_type": "display_data"
        }
      ]
    },
    {
      "cell_type": "code",
      "metadata": {
        "cell_id": "00003-14d2ce3c-22c8-4538-b49c-178acd8593de",
        "deepnote_to_be_reexecuted": false,
        "source_hash": "833b78a2",
        "execution_millis": 187,
        "execution_start": 1615857680912,
        "deepnote_cell_type": "code"
      },
      "source": "plt.imshow(x_train[2, :, :, 0])\nplt.colorbar()\nplt.show()",
      "execution_count": 4,
      "outputs": [
        {
          "data": {
            "text/plain": "<Figure size 432x288 with 2 Axes>",
            "image/png": "[encoded data removed]"
          },
          "metadata": {
            "needs_background": "light"
          },
          "output_type": "display_data"
        }
      ]
    },
    {
      "cell_type": "markdown",
      "source": "There is not a big different between 0.4, 0.5, 0.6 ",
      "metadata": {
        "cell_id": "00004-8387e0d2-3095-437d-85de-8ae400890c46",
        "deepnote_cell_type": "markdown"
      }
    },
    {
      "cell_type": "code",
      "metadata": {
        "cell_id": "00005-fc4de8df-a4fb-4462-ae85-c97773d040ed",
        "deepnote_to_be_reexecuted": false,
        "source_hash": "3ce11095",
        "execution_millis": 3,
        "execution_start": 1615857681219,
        "deepnote_cell_type": "code"
      },
      "source": "df_train = pd.DataFrame( x_train[:, :, :, 0].reshape(x_train[:, :, :, 0].shape[0], 28*28))\ndf_train[\"label\"] = y_train\n# df_test = pd.DataFrame( x_test[:, :, :, 0].reshape(x_test[:, :, :, 0].shape[0], 28*28))\n# df_test[\"label\"] = y_test\n\n# df = pd.concat([df_train, df_test])\n# df.reset_index(inplace=True, drop=True)\nX_train = df_train.drop(['label'], axis=1)\ny_train = df_train['label']",
      "execution_count": 5,
      "outputs": []
    },
    {
      "cell_type": "code",
      "metadata": {
        "cell_id": "00006-bc2618b4-f2fe-40e7-b32a-eea9aa26c120",
        "deepnote_to_be_reexecuted": false,
        "source_hash": "f61b75df",
        "execution_millis": 394,
        "execution_start": 1615857681270,
        "deepnote_cell_type": "code"
      },
      "source": "# Random Shifts\nfrom keras.datasets import mnist\nfrom keras.preprocessing.image import ImageDataGenerator\nfrom matplotlib import pyplot\n\n\n# shifting\n\n(X_train, y_train), (X_test, y_test) = mnist.load_data()\nX_train = X_train.reshape((X_train.shape[0], 28, 28, 1))\nX_test = X_test.reshape((X_test.shape[0], 28, 28, 1))\n# convert from int to float\nX_train = X_train.astype('float32')\nX_test = X_test.astype('float32')\n# define data preparation\n",
      "execution_count": 6,
      "outputs": []
    },
    {
      "cell_type": "markdown",
      "source": "Example on how you can import our python class. Dont forget to run the first cell!",
      "metadata": {
        "cell_id": "00008-abdb278d-dbb2-47f5-aae3-bea29bd05979",
        "deepnote_cell_type": "markdown"
      }
    },
    {
      "cell_type": "code",
      "metadata": {
        "cell_id": "00009-79f68ff0-f694-432c-8c14-d8422a79f1a5",
        "deepnote_to_be_reexecuted": false,
        "source_hash": "228226a6",
        "execution_millis": 589,
        "execution_start": 1615858186458,
        "deepnote_cell_type": "code"
      },
      "source": "from preprocess.get_data import aquire_data\n\n# todo: allow unnormalized data\ndata_preprocess_params = {\n    \"threshold\": True,\n    \"augment_data\": {\"rotate\": False, \"shift\": False, \"zoom\": False, \"shear\": False, \"all\": False},\n}\n# function return generator. does not do any manipulations on the test set\n\ntrain, test = aquire_data(**data_preprocess_params)\n\n\n# stop the iterator after certain iterations \n\"\"\"\nfor x,y in stop_iterator(train, 300):\n    # your code\n    \n\n\"\"\"\nfor i,(x, y) in enumerate(train):\n    plt.imshow(x.reshape(28, 28))\n    plt.title(y)\n    plt.colorbar()\n    plt.show()\n    break",
      "execution_count": 11,
      "outputs": [
        {
          "data": {
            "text/plain": "<Figure size 432x288 with 2 Axes>",
            "image/png": "[encoded data removed]"
          },
          "metadata": {
            "needs_background": "light"
          },
          "output_type": "display_data"
        }
      ]
    },
    {
      "cell_type": "markdown",
      "source": "## MLP Model",
      "metadata": {
        "tags": [],
        "cell_id": "00009-5f16e334-c732-4cd3-9ed0-ed1f297fe05d",
        "deepnote_cell_type": "markdown"
      }
    },
    {
      "cell_type": "code",
      "source": "class GradientDescent:    \n    def __init__(self, learning_rate=.001, max_iters=1e4, epsilon=1e-8):\n        self.learning_rate = learning_rate\n        self.max_iters = max_iters\n        self.epsilon = epsilon\n        \n    def run(self, gradient_fn, x, y, params):\n        norms = np.array([np.inf])\n        t = 1\n        while np.any(norms > self.epsilon) and t < self.max_iters:\n            grad = gradient_fn(x, y, params)\n            for p in range(len(params)):\n                params[p] -= self.learning_rate * grad[p]\n            t += 1\n            norms = np.array([np.linalg.norm(g) for g in grad])\n        return params\n\n\nclass MLP:\n    def __init__(self, activation_fnc, weight, bias, n_hidden_layers=2, n_units_hidden_layers=64):\n        self.activation_fnc = activation_fnc\n        self.n_hidden_layers = n_hidden_layers\n        self.n_units_hidden_layers = n_units_hidden_layers\n        self.weight = weight\n        self.bias = bias\n\n    def fit(self, X_train, y_train, learning_rate, n_iter):\n        \"\"\"\"\n        input of x_train is 1x784 column matrix\n        \n        \n        output layer is 10 big for the 10 numbers (0 to 9)\n        \"\"\"\n        pass\n\n    def predict(self, X_test, y_test):\n        pass",
      "metadata": {
        "tags": [],
        "cell_id": "00009-27a968f2-52d9-4c23-8fbb-586ad084c58e",
        "deepnote_cell_type": "code"
      },
      "outputs": [],
      "execution_count": null
    },
    {
      "cell_type": "markdown",
      "source": "## Run experiments",
      "metadata": {
        "tags": [],
        "cell_id": "00011-26f15bcd-82b6-45ca-a082-cdfde18588b9",
        "deepnote_cell_type": "markdown"
      }
    },
    {
      "cell_type": "code",
      "source": "sigmoid = lambda x: x+1\ntanh = lambda x: x-1\nrelu = lambda x: x**2\n\nMLP_params = {\n    \"activation_fnc\": lambda x: x + 1,\n    \"weight\": 20000,\n    \"bias\": 0.001,\n    \"n_hidden_layers\": 2,\n    \"n_units_hidden_layers\": 64,\n}\n\n\nMLP_params_signmoid_low_weight = {\n    \"activation_fnc\": lambda x: x + 1,\n    \"weight\": 200,\n    \"bias\": 0.001,\n    \"n_hidden_layers\": 2,\n    \"n_units_hidden_layers\": 64,\n}\n\n\n\ntrain, test = aquire_data(**data_preprocess_params)\nmodel = MLP(**MLP_params)\nmodel.fit(1, 2, 3, 4)\n",
      "metadata": {
        "tags": [],
        "cell_id": "00011-10422494-dda5-4a9c-a392-21a90f5e4504",
        "deepnote_cell_type": "code"
      },
      "outputs": [],
      "execution_count": null
    },
    {
      "cell_type": "markdown",
      "source": "# Team Discussion\n\n## Task 1\n",
      "metadata": {
        "tags": [],
        "cell_id": "00013-6fed54a1-ef2b-4e56-8124-1e79ef514f32",
        "deepnote_cell_type": "markdown"
      }
    },
    {
      "cell_type": "markdown",
      "source": "<a style='text-decoration:none;line-height:16px;display:flex;color:#5B5B62;padding:10px;justify-content:end;' href='https://deepnote.com?utm_source=created-in-deepnote-cell&projectId=f6a04c32-5dea-4da7-943b-a573306dab4e' target=\"_blank\">\n<img style='display:inline;max-height:16px;margin:0px;margin-right:7.5px;' src='data:image/svg+xml;base64,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' > </img>\nCreated in <span style='font-weight:600;margin-left:4px;'>Deepnote</span></a>",
      "metadata": {
        "tags": [],
        "created_in_deepnote_cell": true,
        "deepnote_cell_type": "markdown"
      }
    }
  ],
  "nbformat": 4,
  "nbformat_minor": 2,
  "metadata": {
    "kernelspec": {
      "display_name": "Python 3.7.3 64-bit ('venv')",
      "metadata": {
        "interpreter": {
          "hash": "8746a1b287dd4bdce227f5ac245f1756edef5e5e1a02b8fe4d9a97b4d8d5f5ff"
        }
      },
      "name": "python3"
    },
    "language_info": {
      "codemirror_mode": {
        "name": "ipython",
        "version": 3
      },
      "file_extension": ".py",
      "mimetype": "text/x-python",
      "name": "python",
      "nbconvert_exporter": "python",
      "pygments_lexer": "ipython3",
      "version": "3.7.3"
    },
    "orig_nbformat": 2,
    "deepnote_notebook_id": "281e6a1f-f727-4ea1-9509-db98936577f6",
    "deepnote": {},
    "deepnote_execution_queue": []
  }
}